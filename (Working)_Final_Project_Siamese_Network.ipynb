{
  "nbformat": 4,
  "nbformat_minor": 0,
  "metadata": {
    "colab": {
      "name": "(Working) Final Project Siamese Network ",
      "provenance": [],
      "collapsed_sections": [],
      "toc_visible": true,
      "machine_shape": "hm"
    },
    "kernelspec": {
      "name": "python3",
      "display_name": "Python 3"
    },
    "language_info": {
      "name": "python"
    },
    "accelerator": "GPU"
  },
  "cells": [
    {
      "cell_type": "markdown",
      "source": [
        "#Installing Dependencies"
      ],
      "metadata": {
        "id": "hMGzsrEj_lRr"
      }
    },
    {
      "cell_type": "code",
      "execution_count": 1,
      "metadata": {
        "colab": {
          "base_uri": "https://localhost:8080/"
        },
        "id": "14euplSn_Y_Y",
        "outputId": "a6531f53-1b4f-47d5-e585-725b25cf03a3"
      },
      "outputs": [
        {
          "output_type": "stream",
          "name": "stdout",
          "text": [
            "Requirement already satisfied: pygame in /usr/local/lib/python3.7/dist-packages (2.1.2)\n",
            "Requirement already satisfied: optuna in /usr/local/lib/python3.7/dist-packages (2.10.0)\n",
            "Requirement already satisfied: alembic in /usr/local/lib/python3.7/dist-packages (from optuna) (1.7.5)\n",
            "Requirement already satisfied: cmaes>=0.8.2 in /usr/local/lib/python3.7/dist-packages (from optuna) (0.8.2)\n",
            "Requirement already satisfied: scipy!=1.4.0 in /usr/local/lib/python3.7/dist-packages (from optuna) (1.4.1)\n",
            "Requirement already satisfied: sqlalchemy>=1.1.0 in /usr/local/lib/python3.7/dist-packages (from optuna) (1.4.29)\n",
            "Requirement already satisfied: PyYAML in /usr/local/lib/python3.7/dist-packages (from optuna) (3.13)\n",
            "Requirement already satisfied: colorlog in /usr/local/lib/python3.7/dist-packages (from optuna) (6.6.0)\n",
            "Requirement already satisfied: cliff in /usr/local/lib/python3.7/dist-packages (from optuna) (3.10.0)\n",
            "Requirement already satisfied: packaging>=20.0 in /usr/local/lib/python3.7/dist-packages (from optuna) (21.3)\n",
            "Requirement already satisfied: tqdm in /usr/local/lib/python3.7/dist-packages (from optuna) (4.62.3)\n",
            "Requirement already satisfied: numpy in /usr/local/lib/python3.7/dist-packages (from optuna) (1.19.5)\n",
            "Requirement already satisfied: pyparsing!=3.0.5,>=2.0.2 in /usr/local/lib/python3.7/dist-packages (from packaging>=20.0->optuna) (3.0.6)\n",
            "Requirement already satisfied: greenlet!=0.4.17 in /usr/local/lib/python3.7/dist-packages (from sqlalchemy>=1.1.0->optuna) (1.1.2)\n",
            "Requirement already satisfied: importlib-metadata in /usr/local/lib/python3.7/dist-packages (from sqlalchemy>=1.1.0->optuna) (4.10.0)\n",
            "Requirement already satisfied: Mako in /usr/local/lib/python3.7/dist-packages (from alembic->optuna) (1.1.6)\n",
            "Requirement already satisfied: importlib-resources in /usr/local/lib/python3.7/dist-packages (from alembic->optuna) (5.4.0)\n",
            "Requirement already satisfied: autopage>=0.4.0 in /usr/local/lib/python3.7/dist-packages (from cliff->optuna) (0.4.0)\n",
            "Requirement already satisfied: stevedore>=2.0.1 in /usr/local/lib/python3.7/dist-packages (from cliff->optuna) (3.5.0)\n",
            "Requirement already satisfied: pbr!=2.1.0,>=2.0.0 in /usr/local/lib/python3.7/dist-packages (from cliff->optuna) (5.8.0)\n",
            "Requirement already satisfied: cmd2>=1.0.0 in /usr/local/lib/python3.7/dist-packages (from cliff->optuna) (2.3.3)\n",
            "Requirement already satisfied: PrettyTable>=0.7.2 in /usr/local/lib/python3.7/dist-packages (from cliff->optuna) (3.0.0)\n",
            "Requirement already satisfied: attrs>=16.3.0 in /usr/local/lib/python3.7/dist-packages (from cmd2>=1.0.0->cliff->optuna) (21.4.0)\n",
            "Requirement already satisfied: pyperclip>=1.6 in /usr/local/lib/python3.7/dist-packages (from cmd2>=1.0.0->cliff->optuna) (1.8.2)\n",
            "Requirement already satisfied: typing-extensions in /usr/local/lib/python3.7/dist-packages (from cmd2>=1.0.0->cliff->optuna) (3.10.0.2)\n",
            "Requirement already satisfied: wcwidth>=0.1.7 in /usr/local/lib/python3.7/dist-packages (from cmd2>=1.0.0->cliff->optuna) (0.2.5)\n",
            "Requirement already satisfied: zipp>=0.5 in /usr/local/lib/python3.7/dist-packages (from importlib-metadata->sqlalchemy>=1.1.0->optuna) (3.7.0)\n",
            "Requirement already satisfied: MarkupSafe>=0.9.2 in /usr/local/lib/python3.7/dist-packages (from Mako->alembic->optuna) (2.0.1)\n"
          ]
        }
      ],
      "source": [
        "!pip install pygame\n",
        "!pip install optuna"
      ]
    },
    {
      "cell_type": "markdown",
      "source": [
        "# Importing Libraries"
      ],
      "metadata": {
        "id": "extdiJ1h_t8T"
      }
    },
    {
      "cell_type": "code",
      "source": [
        "import os, sys, os.path\n",
        "import time\n",
        "import random\n",
        "import numpy as np\n",
        "import math"
      ],
      "metadata": {
        "id": "awtVwJDL_i7y"
      },
      "execution_count": 2,
      "outputs": []
    },
    {
      "cell_type": "code",
      "source": [
        "import pygame\n",
        "\n",
        "import gym\n",
        "\n",
        "import cv2\n",
        "from google.colab.patches import cv2_imshow\n",
        "from google.colab import output\n",
        "\n",
        "from keras.datasets import mnist\n",
        "from matplotlib import pyplot\n",
        "from PIL import Image\n",
        "from google.colab import drive\n",
        "drive.mount('/content/drive/')"
      ],
      "metadata": {
        "colab": {
          "base_uri": "https://localhost:8080/"
        },
        "id": "PaY2ixgP_qP7",
        "outputId": "c9544a1d-567c-42b0-ca87-c7f2dd9d6084"
      },
      "execution_count": 3,
      "outputs": [
        {
          "output_type": "stream",
          "name": "stdout",
          "text": [
            "pygame 2.1.2 (SDL 2.0.16, Python 3.7.12)\n",
            "Hello from the pygame community. https://www.pygame.org/contribute.html\n",
            "Drive already mounted at /content/drive/; to attempt to forcibly remount, call drive.mount(\"/content/drive/\", force_remount=True).\n"
          ]
        }
      ]
    },
    {
      "cell_type": "code",
      "source": [
        "import torch\n",
        "import torch.nn.functional as F\n",
        "import matplotlib.pyplot as plt\n",
        "\n",
        "from torch import nn\n",
        "from torch import Tensor\n",
        "from PIL import Image\n",
        "from scipy import spatial\n",
        "from torchvision.transforms import Compose, Resize, ToTensor\n",
        "import time\n",
        "import torch.optim as optim\n",
        "from torchsummary import summary\n",
        "import torchvision.transforms as transforms\n",
        "import cv2"
      ],
      "metadata": {
        "id": "x-WC3qNt_2I0"
      },
      "execution_count": 4,
      "outputs": []
    },
    {
      "cell_type": "code",
      "source": [
        "from PIL import Image\n",
        "import os, os.path\n",
        "import time\n",
        "import numpy as np\n",
        "import matplotlib.pyplot as plt\n",
        "import argparse\n",
        "import os\n",
        "import sys\n",
        "import datetime\n",
        "import time\n",
        "import math\n",
        "import json\n",
        "from pathlib import Path\n",
        "from functools import partial\n",
        "\n",
        "\n",
        "import numpy as np\n",
        "from PIL import Image\n",
        "import torch\n",
        "import torch.nn as nn\n",
        "import torch.distributed as dist\n",
        "import torch.backends.cudnn as cudnn\n",
        "import torch.nn.functional as F\n",
        "from torchvision import datasets, transforms\n",
        "from torch.utils.data import DataLoader, Dataset\n",
        "from torchvision import models as torchvision_models\n",
        "import torchvision\n",
        "\n",
        "import subprocess\n",
        "from collections import defaultdict, deque\n",
        "\n",
        "import numpy as np\n",
        "import torch\n",
        "from torch import nn\n",
        "import torch.distributed as dist\n",
        "from PIL import ImageFilter, ImageOps\n",
        "import random\n",
        "import torch.distributed as dist\n"
      ],
      "metadata": {
        "id": "Iqn8f8SF_3OS"
      },
      "execution_count": 5,
      "outputs": []
    },
    {
      "cell_type": "code",
      "source": [
        "from scipy import spatial\n",
        "from sklearn import metrics\n",
        "from sklearn.preprocessing import MinMaxScaler,OneHotEncoder\n",
        "import pandas as pd\n",
        "from PIL import Image\n",
        "import os, os.path\n",
        "import time\n",
        "from sklearn.metrics import accuracy_score,classification_report\n",
        "from scipy.spatial import distance"
      ],
      "metadata": {
        "id": "wg4nWIq2_4Qd"
      },
      "execution_count": 6,
      "outputs": []
    },
    {
      "cell_type": "markdown",
      "source": [
        "# Loading and visualising Mnist"
      ],
      "metadata": {
        "id": "wZzmoo_UBorr"
      }
    },
    {
      "cell_type": "markdown",
      "source": [
        "## Loading Mnist"
      ],
      "metadata": {
        "id": "RWXNqs7FBvrp"
      }
    },
    {
      "cell_type": "code",
      "source": [
        "# load dataset\n",
        "(trainX, trainy), (testX, testy) = mnist.load_data()\n",
        "print('Train: X=%s, y=%s' % (trainX.shape, trainy.shape))\n",
        "print('Test: X=%s, y=%s' % (testX.shape, testy.shape))"
      ],
      "metadata": {
        "colab": {
          "base_uri": "https://localhost:8080/"
        },
        "id": "E552xgmSByKr",
        "outputId": "378ba7df-92b7-4b85-f6e5-946967b32edb"
      },
      "execution_count": 7,
      "outputs": [
        {
          "output_type": "stream",
          "name": "stdout",
          "text": [
            "Train: X=(60000, 28, 28), y=(60000,)\n",
            "Test: X=(10000, 28, 28), y=(10000,)\n"
          ]
        }
      ]
    },
    {
      "cell_type": "markdown",
      "source": [
        "## Visualising Mnist"
      ],
      "metadata": {
        "id": "eRmIlr5OBydp"
      }
    },
    {
      "cell_type": "code",
      "source": [
        "# plot first few images\n",
        "for i in range(9):\n",
        "\t# define subplot\n",
        "\tpyplot.subplot(330 + 1 + i)\n",
        "\t# plot raw pixel data\n",
        "\tpyplot.imshow(trainX[i], cmap=pyplot.get_cmap('gray'))\n",
        "# show the figure\n",
        "pyplot.show()"
      ],
      "metadata": {
        "colab": {
          "base_uri": "https://localhost:8080/",
          "height": 268
        },
        "id": "HeJVg-JwB0qJ",
        "outputId": "965d8023-2c81-400c-e832-a3fbf43832ea"
      },
      "execution_count": 8,
      "outputs": [
        {
          "output_type": "display_data",
          "data": {
            "image/png": "[encoded data removed]",
            "text/plain": [
              "<Figure size 432x288 with 9 Axes>"
            ]
          },
          "metadata": {
            "needs_background": "light"
          }
        }
      ]
    },
    {
      "cell_type": "markdown",
      "source": [
        "#Environment"
      ],
      "metadata": {
        "id": "wIuDUhxzAAcd"
      }
    },
    {
      "cell_type": "code",
      "source": [
        "\n",
        "window_width, window_height = 250, 80\n",
        "os.environ[\"SDL_VIDEODRIVER\"] = \"dummy\"\n",
        "class CustomEnv(gym.Env):\n",
        "    def __init__(self,env_config={},n_objects=2,debug=False):\n",
        "      self.n_objects = n_objects\n",
        "      self.corpus = {\n",
        "      0 : 'zero',\n",
        "      1 : 'one',\n",
        "      2 : 'two',\n",
        "      3 : 'three',\n",
        "      4 : 'four',\n",
        "      5 : 'five',\n",
        "      6 : 'six',\n",
        "      7 : 'seven',\n",
        "      8 : 'eight',\n",
        "      9 : 'nine', \n",
        "      }\n",
        "      self.sprites_to_train = 2\n",
        "      self.action_space = gym.spaces.Discrete(4)\n",
        "      self.observation_space = gym.spaces.Box(\n",
        "      low=0, high=255, shape=(window_height,window_width), dtype=np.float16)\n",
        "      (self.trainx, self.trainy), (self.testx, self.testy) = self.loadDataset('mnist')\n",
        "      self.classes = set(trainy)\n",
        "      self.classes_len = len(self.classes)\n",
        "      self.debug = debug\n",
        "      # summarize loaded dataset\n",
        "      if self.debug == True:\n",
        "        print(\"|------------------ Dataset -----------------|\")\n",
        "        print(f'Train: X={self.trainx.shape}, y={self.trainy.shape}')\n",
        "        print(f'Test: X={self.testx.shape}, y={self.testy.shape}')\n",
        "        print(f'Classes: Unique={self.classes}, len={self.classes_len}')\n",
        "        print(\"|--------------------------------------------|\")\n",
        "      self.reset()\n",
        "    def loadDataset(self,dataset_name):\n",
        "      if dataset_name == 'mnist':\n",
        "        return mnist.load_data()\n",
        "\n",
        "    def generate_unique_random(self,prev,corpus):\n",
        "        \n",
        "        input = random.choice(list(corpus.keys()))\n",
        "        if (input in prev):\n",
        "          while (input in prev):\n",
        "            input = random.choice(list(corpus.keys()))\n",
        "        return input\n",
        "\n",
        "    def get_image_from_label(self,data,label):\n",
        "        #get all indexes for given label from data and select an image as random \n",
        "        indexes = []\n",
        "        for i in range(len(data[1])):\n",
        "          if label == data[1][i]:\n",
        "            indexes.append(i)        \n",
        "        image_pixel= np.array(data[0][random.choice(indexes)]).T\n",
        "        #img = Image.fromarray(image_pixel)\n",
        "        return image_pixel\n",
        "\n",
        "    def reset(self):\n",
        "        pygame.init()\n",
        "        pygame.font.init()\n",
        "        self.window = pygame.display.set_mode((window_width, window_height))\n",
        "        #self.myfont = pygame.font.SysFont(random.choice(sys_font_list), 15)\n",
        "        self.myfont = pygame.font.SysFont(\"Arial\", 15)\n",
        "        self.clock = pygame.time.Clock()\n",
        "        self.window.fill(0)\n",
        "        self.objects = []\n",
        "        self.instruction_pane_width = 120\n",
        "        self.instruction_pane_height = window_height\n",
        "        self.instruction_pane_x = window_width - self.instruction_pane_width\n",
        "        self.instruction_pane_y = 0\n",
        "        #Create agent\n",
        "        \n",
        "        self.inputs_choosen = []\n",
        "        self.init_sprite(\"agent_0\",0,0,15,15,path=\"./drive/MyDrive/Final Project/assets/mouse.png\")  \n",
        "        for i in range(self.sprites_to_train):\n",
        "          #ensure same input is not choosen again\n",
        "          input_label = self.generate_unique_random(self.inputs_choosen,self.corpus)\n",
        "          sprite_iamge = self.get_image_from_label((self.trainx,self.trainy),input_label)\n",
        "          #display inputs chosen\n",
        "          # pyplot.imshow(sprite_iamge, cmap=pyplot.get_cmap('gray'))\n",
        "          # pyplot.show()\n",
        "          self.init_sprite(\"sprite_\"+str(i),(i*45)+10,10,42,42,label_class = input_label,image = sprite_iamge,label=input_label,label_text=self.corpus[input_label],augmentation=True)\n",
        "          self.inputs_choosen.append(input_label)\n",
        "        if self.debug == True:\n",
        "          print(f\"Env Objects: {self.objects}\")\n",
        "        self.selected_instruction = random.choice(self.inputs_choosen)\n",
        "        if self.debug == True:\n",
        "          print(f\"self.inputs_choosen: {self.inputs_choosen} self.selected_instruction {self.selected_instruction}\")\n",
        "        self.done = True\n",
        "        self.render_screen()\n",
        "        return self.observation_to_img(),self.inputs_choosen,self.selected_instruction\n",
        "\n",
        "    def random_augmentation(self,sprite):\n",
        "        #implement code for random augmentation here\n",
        "        return sprite\n",
        "\n",
        "    def init_sprite(self,id,x,y,width,height,label_class=None,path=None,image=None,label = None,label_text = None,augmentation=False):\n",
        "        if path != None:\n",
        "          sprite = pygame.transform.scale(pygame.image.load(path).convert_alpha(), (width,height)) \n",
        "        else:\n",
        "          sprite = pygame.transform.scale(pygame.surfarray.make_surface(image), (width,height))\n",
        "        if augmentation == True:\n",
        "          sprite = self.random_augmentation(sprite) \n",
        "        color = (255,255,255)\n",
        "        \n",
        "        if label == None:\n",
        "          self.objects.append(\n",
        "            {\n",
        "                \"id\" : id,\n",
        "                \"sprite\" : sprite,\n",
        "                \"collision_box\" : sprite.get_rect(x=(window_width - self.instruction_pane_width)/2, y=(window_height)/2),\n",
        "                \"color\" : color,\n",
        "                \"path\" : path,\n",
        "            }\n",
        "          )\n",
        "        else:\n",
        "          if id == \"sprite_0\":\n",
        "            self.objects.append(\n",
        "                {\n",
        "                    \"id\" : id,\n",
        "                    \"sprite\" : sprite,\n",
        "                    \"collision_box\" : sprite.get_rect(x=0, y=y),\n",
        "                    \"label_text\" : label_text,\n",
        "                    \"label\" : self.myfont.render(label_text, False, color),\n",
        "                    \"label_position\" : (x,y+height+5),\n",
        "                    \"label_class\": label_class,\n",
        "                    \"color\" : color,\n",
        "                    \"path\" : path,\n",
        "                }\n",
        "            )\n",
        "          if id == \"sprite_1\":\n",
        "            self.objects.append(\n",
        "                {\n",
        "                    \"id\" : id,\n",
        "                    \"sprite\" : sprite,\n",
        "                    \"collision_box\" : sprite.get_rect(x=window_width - self.instruction_pane_width-width, y=y),\n",
        "                    \"label_text\" : label_text,\n",
        "                    \"label\" : self.myfont.render(label_text, False, color),\n",
        "                    \"label_position\" : (window_width - self.instruction_pane_width-width,y+height+5),\n",
        "                    \"label_class\": label_class,\n",
        "                    \"color\" : color,                 \n",
        "                    \"path\" : path,\n",
        "                }\n",
        "            )\n",
        "    def check_agent_collision(self):\n",
        "      sprite_collision_boxes = []\n",
        "      for i in range(len(self.objects)):\n",
        "        if self.objects[i][\"id\"] == \"agent_0\":\n",
        "          agent_collision_box = self.objects[i][\"collision_box\"]\n",
        "        else:\n",
        "          sprite_collision_boxes.append(self.objects[i][\"collision_box\"])\n",
        "      for i in range(len(sprite_collision_boxes)):\n",
        "        if sprite_collision_boxes[i].colliderect(agent_collision_box):\n",
        "          #print(f\"Collision Detected between agent_0 and sprite_{i}\")\n",
        "          return True,\"sprite_\"+str(i)\n",
        "      return False,None\n",
        "    def move_sprite(self,id,x,y):\n",
        "      for i in range(len(self.objects)):\n",
        "        if self.objects[i][\"id\"] == id:\n",
        "          collision_box = self.objects[i][\"collision_box\"]\n",
        "          \n",
        "          self.objects[i][\"collision_box\"] = self.objects[i][\"sprite\"].get_rect(x=collision_box.x+x, y=collision_box.y+y)\n",
        "          collision_box = self.objects[i][\"collision_box\"]\n",
        "\n",
        "        if collision_box.x >= window_width - self.instruction_pane_width or collision_box.x < 0 or collision_box.y >= window_height or collision_box.y < 0:\n",
        "          self.done = True\n",
        "    def step(self, action=np.zeros((4),dtype=np.int32)):\n",
        "        if action == 0:  # Right\n",
        "          self.move_sprite(\"agent_0\",1,0)\n",
        "        if action == 1:  # Left\n",
        "          self.move_sprite(\"agent_0\",-1,0)\n",
        "        if action == 2:  # Up\n",
        "          self.move_sprite(\"agent_0\",0,-1)\n",
        "        if action == 3:  # Down\n",
        "          self.move_sprite(\"agent_0\",0,1)\n",
        "        collision,id = self.check_agent_collision() \n",
        "        if collision:\n",
        "          for i in range(len(self.objects)):\n",
        "            if self.objects[i][\"id\"] == id and self.objects[i][\"label_class\"] == self.selected_instruction:\n",
        "              observation, reward, done, info = self.observation_to_img(), 100, self.done, {}\n",
        "              self.reset()\n",
        "              break;\n",
        "            else:\n",
        "              observation, reward, done, info = self.observation_to_img(), 0, self.done, {}\n",
        "\n",
        "        else:\n",
        "          observation, reward, done, info = self.observation_to_img(), 0, self.done, {}\n",
        "        return observation, reward, done, info\n",
        "\n",
        "    def observation_to_img(self):\n",
        "        pygame.display.update()\n",
        "        #convert image so it can be displayed in OpenCV\n",
        "        view = pygame.surfarray.array3d(self.window)\n",
        "        #  convert from (width, height, channel) to (height, width, channel)\n",
        "        view = view.transpose([1, 0, 2])\n",
        "        #  convert from rgb to bgr\n",
        "        img_bgr = cv2.cvtColor(view, cv2.COLOR_RGB2GRAY)\n",
        "        return img_bgr\n",
        "\n",
        "    def render_instructions(self):\n",
        "        pygame.draw.rect(self.window, (0, 0,0), (self.instruction_pane_x,self.instruction_pane_y,self.instruction_pane_width,self.instruction_pane_height))\n",
        "        title = self.myfont.render('Instructions:', False, (255, 255, 255))\n",
        "        self.window.blit(title,(self.instruction_pane_x+20,20))\n",
        "        instruction_1 = self.myfont.render(f'Find {self.corpus[self.selected_instruction]}', False, (255, 255, 255))\n",
        "        self.window.blit(instruction_1,(self.instruction_pane_x+20,40))\n",
        "\n",
        "    def render_screen(self):\n",
        "        self.window.fill(0)\n",
        "        # draw orientation\n",
        "        # p1 = (self.x - 10 * np.cos(self.ang),self.y + 10 * np.sin(self.ang))\n",
        "        # p2 = (self.x + 15 * np.cos(self.ang),self.y - 15 * np.sin(self.ang))\n",
        "        # pygame.draw.line(self.window,(0,100,100),p1,p2,2)\n",
        "        self.render_instructions()\n",
        "        for elem in self.objects:\n",
        "          self.window.blit(elem[\"sprite\"], elem[\"collision_box\"])\n",
        "          if \"label\" in elem.keys():\n",
        "            self.window.blit(elem[\"label\"],elem[\"label_position\"])\n",
        "        #Display image, clear cell every 0.5 seconds\n",
        "        #cv2_imshow(self.observation_to_img())\n",
        "    def render(self):\n",
        "        self.render_screen()\n",
        "        time.sleep(0.1)\n",
        "        output.clear()\n",
        "\n",
        "environment = CustomEnv()\n",
        "rewards = []\n"
      ],
      "metadata": {
        "id": "frkAXLReAC3B"
      },
      "execution_count": 9,
      "outputs": []
    },
    {
      "cell_type": "markdown",
      "source": [
        "# Utils"
      ],
      "metadata": {
        "id": "GjQoc7lAAEmy"
      }
    },
    {
      "cell_type": "markdown",
      "source": [
        "## Detach & Crop"
      ],
      "metadata": {
        "id": "a-0d0s7HAMFJ"
      }
    },
    {
      "cell_type": "markdown",
      "source": [
        "### Train"
      ],
      "metadata": {
        "id": "4_XH-P_wAO2R"
      }
    },
    {
      "cell_type": "code",
      "source": [
        "# training and validation loss were calculated after every epoch\n",
        "def transform(img):\n",
        "    transform = transforms.Compose([\n",
        "    transforms.RandomApply(transforms = [\n",
        "    #transforms.RandomHorizontalFlip(p=0.5),\n",
        "      # transforms.RandomApply(\n",
        "      #     [transforms.ColorJitter(brightness=0.4, contrast=0.4, saturation=0.2, hue=0.1)],\n",
        "      #     p=0.8\n",
        "      # ),\n",
        "      # transforms.RandomRotation(\n",
        "      #     degrees=45\n",
        "      # ),  # Perhaps a random rotation from -45 to 45 degrees\n",
        "    #   #transforms.RandomInvert(),\n",
        "    #   #transforms.RandomEqualize(),\n",
        "    #   # transforms.RandomHorizontalFlip(\n",
        "    #   #     p=0.5\n",
        "    #   # ),  # Flips the image horizontally with probability 0.5\n",
        "    #   # transforms.RandomVerticalFlip(\n",
        "    #   #     p=0.05\n",
        "    #   # ),  # Flips image vertically with probability 0.05\n",
        "\n",
        "    transforms.RandomAffine(degrees=(30, 70), translate=(0.1, 0.3), scale=(0.5, 0.6))\n",
        "    ],p=0.5),\n",
        "    transforms.ToTensor()\n",
        "    # ,  # Finally converts PIL image to tensor so we can train w. pytorch\n",
        "    # transforms.Normalize(\n",
        "    #     mean=[0.5], std=[0.5]\n",
        "    # ), \n",
        "    ])\n",
        "    transformed_img = transform(img).numpy()\n",
        "    return transformed_img\n",
        "\n",
        "def detach_cropped_area(im,coods,debug = False):\n",
        "  im_width = 224\n",
        "  im_height = 224\n",
        "  area = coods\n",
        "  cropped_img = im.crop(area)\n",
        "  newimage = cropped_img.resize((im_width,im_height))\n",
        "  scaler = MinMaxScaler(feature_range=(0,1))\n",
        "  scaler.fit(newimage)\n",
        "  newimage = scaler.transform(newimage)\n",
        "  #numpy_array = np.asarray(cropped_img)\n",
        "  # if debug == True && False:\n",
        "  #   print(f\"Before Padding Coods: {coods} Shape: {numpy_array.shape}\")\n",
        "  # print(newimage)\n",
        "  # pyplot.imshow(newimage)\n",
        "  # pyplot.show()\n",
        "  #numpy_array = np.pad(numpy_array, [(0,im_height - numpy_array.shape[0]),(0, im_width - numpy_array.shape[1])], mode='constant')\n",
        "  # if debug == True:\n",
        "  #   print(f\"After Padding Coods: {coods} Shape: {numpy_array.shape}\")\n",
        "  #   pyplot.imshow(Image.fromarray(numpy_array))\n",
        "  #   pyplot.show()\n",
        "  return transform(Image.fromarray(newimage))"
      ],
      "metadata": {
        "id": "ODsqS2fhAOIp"
      },
      "execution_count": 10,
      "outputs": []
    },
    {
      "cell_type": "markdown",
      "source": [
        "### Test"
      ],
      "metadata": {
        "id": "Hfm4tHc_AQeJ"
      }
    },
    {
      "cell_type": "code",
      "source": [
        "def detach_cropped_area_test(im,coods,debug = False):\n",
        "  im_width = 224\n",
        "  im_height = 224\n",
        "  area = coods\n",
        "  cropped_img = im.crop(area)\n",
        "  newimage = cropped_img.resize((im_width,im_height))\n",
        "  scaler = MinMaxScaler(feature_range=(0,1))\n",
        "  scaler.fit(newimage)\n",
        "  newimage = scaler.transform(newimage)\n",
        "  #numpy_array = np.asarray(cropped_img)\n",
        "  # if debug == True && False:\n",
        "  #   print(f\"Before Padding Coods: {coods} Shape: {numpy_array.shape}\")\n",
        "  # print(newimage)\n",
        "  # pyplot.imshow(newimage)\n",
        "  # pyplot.show()\n",
        "  #numpy_array = np.pad(numpy_array, [(0,im_height - numpy_array.shape[0]),(0, im_width - numpy_array.shape[1])], mode='constant')\n",
        "  # if debug == True:\n",
        "  #   print(f\"After Padding Coods: {coods} Shape: {numpy_array.shape}\")\n",
        "  #   pyplot.imshow(Image.fromarray(numpy_array))\n",
        "  #   pyplot.show()\n",
        "  return newimage"
      ],
      "metadata": {
        "id": "C7Ocza2sASSB"
      },
      "execution_count": 11,
      "outputs": []
    },
    {
      "cell_type": "markdown",
      "source": [
        "## Test Dataset Generator"
      ],
      "metadata": {
        "id": "Goqi9XxSAWWx"
      }
    },
    {
      "cell_type": "code",
      "source": [
        "class DatasetTest(Dataset):\n",
        "    \n",
        "    def __init__(self,num_samples,verbose=False,width=224,height=224):\n",
        "        self.label =[]\n",
        "        self.images = []\n",
        "        self.img_width,self.img_height = width,height\n",
        "        start_time = time.time()\n",
        "        for i in range(num_samples):\n",
        "          self.image,input_digits,selected_digit = environment.reset()\n",
        "          self.images.append(self.image)\n",
        "          self.label.append(input_digits.index(selected_digit))\n",
        "        print(\"|------Test Dataset Generated------|\")\n",
        "        print(f\"Total Images {np.array(self.images).shape} Labels {len(self.label)} Time to load: {time.time() - start_time} seconds\")\n",
        "    def __getitem__(self, idx):\n",
        "        \n",
        "        im = Image.fromarray(self.images[idx])\n",
        "        label = self.label[idx]\n",
        "        input_1 = torch.tensor(detach_cropped_area_test(im,(0, 10, 52, 52)), dtype=torch.float32).reshape(1,self.img_width,self.img_height)\n",
        "        label_1 = torch.tensor(detach_cropped_area_test(im,(0, 52, 52, 82)), dtype=torch.float32).reshape(1,self.img_width,self.img_height)\n",
        "        input_2 = torch.tensor(detach_cropped_area_test(im,(85, 10, 130, 52)), dtype=torch.float32).reshape(1,self.img_width,self.img_height )\n",
        "        label_2 = torch.tensor(detach_cropped_area_test(im,(85, 52, 130 , 82)), dtype=torch.float32).reshape(1,self.img_width,self.img_height)\n",
        "        query = torch.tensor(detach_cropped_area_test(im,(180, 35, 230 , 60)), dtype=torch.float32).reshape(1,self.img_width,self.img_height)\n",
        "\n",
        "\n",
        "        return  input_1, label_1, input_2 , label_2, query, label\n",
        "            \n",
        "    def __len__(self):\n",
        "        \n",
        "        # here I gave a smaller length than the real dataset's length so that the training can be faster\n",
        "            \n",
        "        return len(self.images)\n",
        "testDataset = DatasetTest(300)\n"
      ],
      "metadata": {
        "colab": {
          "base_uri": "https://localhost:8080/"
        },
        "id": "F6QaiSKEAWoT",
        "outputId": "5c771af8-7a4d-44cf-c227-d925347b510d"
      },
      "execution_count": 12,
      "outputs": [
        {
          "output_type": "stream",
          "name": "stdout",
          "text": [
            "|------Test Dataset Generated------|\n",
            "Total Images (300, 80, 250) Labels 300 Time to load: 84.25263571739197 seconds\n"
          ]
        }
      ]
    },
    {
      "cell_type": "markdown",
      "source": [
        "## Trunc Normal"
      ],
      "metadata": {
        "id": "VSWiLxQAAbAI"
      }
    },
    {
      "cell_type": "code",
      "source": [
        "def _no_grad_trunc_normal_(tensor, mean, std, a, b):\n",
        "    # Cut & paste from PyTorch official master until it's in a few official releases - RW\n",
        "    # Method based on https://people.sc.fsu.edu/~jburkardt/presentations/truncated_normal.pdf\n",
        "    def norm_cdf(x):\n",
        "        # Computes standard normal cumulative distribution function\n",
        "        return (1. + math.erf(x / math.sqrt(2.))) / 2.\n",
        "\n",
        "    with torch.no_grad():\n",
        "        # Values are generated by using a truncated uniform distribution and\n",
        "        # then using the inverse CDF for the normal distribution.\n",
        "        # Get upper and lower cdf values\n",
        "        l = norm_cdf((a - mean) / std)\n",
        "        u = norm_cdf((b - mean) / std)\n",
        "\n",
        "        # Uniformly fill tensor with values from [l, u], then translate to\n",
        "        # [2l-1, 2u-1].\n",
        "        tensor.uniform_(2 * l - 1, 2 * u - 1)\n",
        "\n",
        "        # Use inverse cdf transform for normal distribution to get truncated\n",
        "        # standard normal\n",
        "        tensor.erfinv_()\n",
        "\n",
        "        # Transform to proper mean, std\n",
        "        tensor.mul_(std * math.sqrt(2.))\n",
        "        tensor.add_(mean)\n",
        "\n",
        "        # Clamp to ensure it's in the proper range\n",
        "        tensor.clamp_(min=a, max=b)\n",
        "        return tensor\n",
        "\n",
        "\n",
        "def trunc_normal_(tensor, mean=0., std=1., a=-2., b=2.):\n",
        "    # type: (Tensor, float, float, float, float) -> Tensor\n",
        "    return _no_grad_trunc_normal_(tensor, mean, std, a, b)"
      ],
      "metadata": {
        "id": "04CfQHXqAbTR"
      },
      "execution_count": 13,
      "outputs": []
    },
    {
      "cell_type": "markdown",
      "source": [
        "# Siamese Network"
      ],
      "metadata": {
        "id": "NX-qiklaAe6Z"
      }
    },
    {
      "cell_type": "markdown",
      "source": [
        "## Dataloader Train"
      ],
      "metadata": {
        "id": "kxTTjcJzAkW3"
      }
    },
    {
      "cell_type": "code",
      "source": [
        "class SiamDataset(Dataset):\n",
        "    \n",
        "    def __init__(self,num_samples,verbose=False,width=224,height=224):\n",
        "        self.verbose = verbose\n",
        "        self.img_width,self.img_height = width,height\n",
        "        start_time = time.time()\n",
        "        # imgs = []\n",
        "        # self.label = []\n",
        "        # path = \"/content/drive/MyDrive/Final Project/dataset/train/\"\n",
        "        # valid_images = [\".jpg\"]\n",
        "        # count =0 \n",
        "        # for f in os.listdir(path):\n",
        "        #     ext = os.path.splitext(f)[1]\n",
        "        #     if ext.lower() not in valid_images:\n",
        "        #         continue\n",
        "        #     if self.verbose:\n",
        "        #       print(f\"Loaded {count}\")\n",
        "        #     imgs.append(np.array(Image.open(os.path.join(path,f))))\n",
        "        #     self.label.append(f[-5])\n",
        "        #     count = count + 1\n",
        "        #     if count >= num_samples:\n",
        "        #       break\n",
        "        # self.images = np.array(imgs)\n",
        "        self.label =[]\n",
        "        self.images = []\n",
        "        self.img_width,self.img_height = width,height\n",
        "        start_time = time.time()\n",
        "        for i in range(num_samples):\n",
        "          self.image,input_digits,selected_digit = environment.reset()\n",
        "          self.images.append(self.image)\n",
        "          self.label.append(input_digits.index(selected_digit))\n",
        "        print(\"|------Test Dataset Generated------|\")\n",
        "        print(f\"Total Images {np.array(self.images).shape} Labels {len(self.label)} Time to load: {time.time() - start_time} seconds\")\n",
        "        # print(\"|------Dataset Loaded------|\")\n",
        "        # print(f\"Total Images {self.images.shape} Labels {len(self.label)} Time to load: {time.time() - start_time} seconds\")\n",
        "    \n",
        "    def __getitem__(self, idx):\n",
        "        \n",
        "        im = Image.fromarray(self.images[idx])\n",
        "        input_1 = detach_cropped_area(im,(0, 10, 52, 52))\n",
        "        label_1 = detach_cropped_area(im,(0, 52, 52, 82))\n",
        "        input_2 = detach_cropped_area(im,(85, 10, 130, 52))\n",
        "        label_2 = detach_cropped_area(im,(85, 52, 130 , 82))\n",
        "        query = detach_cropped_area(im,(180, 35, 230 , 60))\n",
        "        clas = np.random.randint(0,1)\n",
        "        if  int(self.label[idx]) == 0:#int(self.label[idx])\n",
        "          img1 = torch.tensor(np.reshape(query,(1,self.img_width,self.img_height)), dtype=torch.float32)\n",
        "          img2 = torch.tensor(np.reshape(input_1,(1,self.img_width,self.img_height)), dtype=torch.float32)\n",
        "          y1 = torch.tensor(np.ones(1,dtype=np.float32),dtype=torch.float32)\n",
        "          img3 = torch.tensor(np.reshape(query,(1,self.img_width,self.img_height)), dtype=torch.float32)\n",
        "          img4 = torch.tensor(np.reshape(input_2,(1,self.img_width,self.img_height)), dtype=torch.float32)\n",
        "          y2 = torch.tensor(np.zeros(1,dtype=np.float32),dtype=torch.float32)\n",
        "        if int(self.label[idx]) == 1:\n",
        "          img1 = torch.tensor(np.reshape(query,(1,self.img_width,self.img_height)), dtype=torch.float32)\n",
        "          img2 = torch.tensor(np.reshape(input_2,(1,self.img_width,self.img_height)), dtype=torch.float32)\n",
        "          y1 = torch.tensor(np.ones(1,dtype=np.float32),dtype=torch.float32)\n",
        "          img3 = torch.tensor(np.reshape(query,(1,self.img_width,self.img_height)), dtype=torch.float32)\n",
        "          img4 = torch.tensor(np.reshape(input_1,(1,self.img_width,self.img_height)), dtype=torch.float32)\n",
        "          y2 = torch.tensor(np.zeros(1,dtype=np.float32),dtype=torch.float32)\n",
        "\n",
        "        return  img1, img2, y1, img3, img4, y2\n",
        "            \n",
        "    def __len__(self):\n",
        "        \n",
        "        # here I gave a smaller length than the real dataset's length so that the training can be faster\n",
        "            \n",
        "        return len(self.images)\n",
        "\n",
        "siamdset = SiamDataset(5000)\n"
      ],
      "metadata": {
        "colab": {
          "base_uri": "https://localhost:8080/"
        },
        "id": "Asbp-p7UAerZ",
        "outputId": "41b02892-d2ce-4bcd-c068-ff4313887daa"
      },
      "execution_count": 14,
      "outputs": [
        {
          "output_type": "stream",
          "name": "stdout",
          "text": [
            "|------Test Dataset Generated------|\n",
            "Total Images (5000, 80, 250) Labels 5000 Time to load: 1404.0512959957123 seconds\n"
          ]
        }
      ]
    },
    {
      "cell_type": "code",
      "source": [
        "#Driver Code\n",
        "train_dataloader = DataLoader(siamdset, shuffle=True, batch_size=1,num_workers=4)\n",
        "for itr,data in enumerate(train_dataloader):\n",
        "  img1, img2 , label1, img3, img4, label2 = data\n",
        "\n",
        "  # dista =nn.functional.pairwise_distance(output1,output2 )\n",
        "  # distb =nn.functional.pairwise_distance(output3,output4 )\n",
        "  print(\"-------------------------------\")\n",
        "  print(\"-------------------------------\")\n",
        "  print(f\"Label 1 {label1}\")\n",
        "  print(\"------------img1-------------\")\n",
        "  im = pyplot.imshow(img1[0].numpy().reshape(224,224))\n",
        "  pyplot.show()\n",
        "  print(\"------------img2-------------\")\n",
        "  im = pyplot.imshow(img2[0].numpy().reshape(224,224))\n",
        "  pyplot.show()\n",
        "  print(f\"Label 2 {label2}\")\n",
        "  print(\"------------img3-------------\")\n",
        "  im = pyplot.imshow(img3[0].numpy().reshape(224,224))\n",
        "  pyplot.show()\n",
        "  print(\"------------img4-------------\")\n",
        "  im = pyplot.imshow(img4[0].numpy().reshape(224,224))\n",
        "  pyplot.show()\n",
        "  print(\"-------------------------------\")\n",
        "  print(\"-------------------------------\")\n",
        "  break"
      ],
      "metadata": {
        "colab": {
          "base_uri": "https://localhost:8080/",
          "height": 1000
        },
        "id": "vbYM6q6EAngJ",
        "outputId": "799b0de4-9a03-4cdb-b9ff-f931af836c18"
      },
      "execution_count": 15,
      "outputs": [
        {
          "output_type": "stream",
          "name": "stdout",
          "text": [
            "-------------------------------\n",
            "-------------------------------\n",
            "Label 1 tensor([[1.]])\n",
            "------------img1-------------\n"
          ]
        },
        {
          "output_type": "display_data",
          "data": {
            "image/png": "[encoded data removed]",
            "text/plain": [
              "<Figure size 432x288 with 1 Axes>"
            ]
          },
          "metadata": {
            "needs_background": "light"
          }
        },
        {
          "output_type": "stream",
          "name": "stdout",
          "text": [
            "------------img2-------------\n"
          ]
        },
        {
          "output_type": "display_data",
          "data": {
            "image/png": "[encoded data removed]",
            "text/plain": [
              "<Figure size 432x288 with 1 Axes>"
            ]
          },
          "metadata": {
            "needs_background": "light"
          }
        },
        {
          "output_type": "stream",
          "name": "stdout",
          "text": [
            "Label 2 tensor([[0.]])\n",
            "------------img3-------------\n"
          ]
        },
        {
          "output_type": "display_data",
          "data": {
            "image/png": "[encoded data removed]",
            "text/plain": [
              "<Figure size 432x288 with 1 Axes>"
            ]
          },
          "metadata": {
            "needs_background": "light"
          }
        },
        {
          "output_type": "stream",
          "name": "stdout",
          "text": [
            "------------img4-------------\n"
          ]
        },
        {
          "output_type": "display_data",
          "data": {
            "image/png": "[encoded data removed]",
            "text/plain": [
              "<Figure size 432x288 with 1 Axes>"
            ]
          },
          "metadata": {
            "needs_background": "light"
          }
        },
        {
          "output_type": "stream",
          "name": "stdout",
          "text": [
            "-------------------------------\n",
            "-------------------------------\n"
          ]
        }
      ]
    },
    {
      "cell_type": "markdown",
      "source": [
        "## Validation accuracy custom dataset"
      ],
      "metadata": {
        "id": "jmqb-Q7TAo4r"
      }
    },
    {
      "cell_type": "code",
      "source": [
        "def validationAccuracy_custom(trained_model):\n",
        "  \n",
        "  test_dataloader = DataLoader(testDataset, shuffle=True, batch_size=1,num_workers=4)\n",
        "  with torch.no_grad():\n",
        "    model.eval()\n",
        "    t_label = []\n",
        "    p_labels = []\n",
        "    for itr,data in enumerate(test_dataloader):\n",
        "        # if itr > 5:\n",
        "        #   break\n",
        "        input_1, label_1, input_2 , label_2, query, label = data\n",
        "        img1 =  query\n",
        "        img3 = img1\n",
        "        img2 = input_1\n",
        "        img4 = input_2\n",
        "        dista= model(img1[0].reshape(1,1,224,224).cuda(),img2[0].reshape(1,1,224,224).cuda())\n",
        "        distb = model(img3[0].reshape(1,1,224,224).cuda(),img4[0].reshape(1,1,224,224).cuda())\n",
        "        # dista =nn.functional.pairwise_distance(output1,output2 )\n",
        "        # distb =nn.functional.pairwise_distance(output3,output4 )\n",
        "        # print(\"-------------------------------\")\n",
        "        # print(\"-------------------------------\")\n",
        "        # print(\"------------img1-------------\")\n",
        "        # print(img1.shape)\n",
        "        # im = pyplot.imshow(img1[0].numpy().reshape(224,224))\n",
        "        # pyplot.show()\n",
        "        # print(\"------------img2-------------\")\n",
        "        # im = pyplot.imshow(img2[0].numpy().reshape(224,224))\n",
        "        # pyplot.show()\n",
        "        # print(f\"Similarity Img 1  & Img 2 {dista}\")\n",
        "        # print(\"------------img3-------------\")\n",
        "        # im = pyplot.imshow(img3[0].numpy().reshape(224,224))\n",
        "        # pyplot.show()\n",
        "        # print(\"------------img4-------------\")\n",
        "        # im = pyplot.imshow(img4[0].numpy().reshape(224,224))\n",
        "        # pyplot.show()\n",
        "        # print(f\"Similarity Img 3  & Img 4 {distb}\")\n",
        "        # print(\"-------------------------------\")\n",
        "        # print(\"-------------------------------\")\n",
        "\n",
        "        p_label = 0\n",
        "        if (dista[0] < distb[0]):\n",
        "          p_label = 1\n",
        "        t_label.append(label)\n",
        "        p_labels.append(p_label)\n",
        "\n",
        "        #print(f\"dista: {dista} distb: {distb}\")   \n",
        "  print(f\"Validation accuracy: {classification_report(t_label,p_labels, target_names=['class 0','class 1'])}\")"
      ],
      "metadata": {
        "id": "6NfEwsWrAp0w"
      },
      "execution_count": 16,
      "outputs": []
    },
    {
      "cell_type": "markdown",
      "source": [
        "## Network"
      ],
      "metadata": {
        "id": "GMYng40cA1lT"
      }
    },
    {
      "cell_type": "code",
      "source": [
        "\n",
        "class CNNSiameseNet(nn.Module):\n",
        "    \n",
        "    def __init__(self):\n",
        "        super(CNNSiameseNet,self).__init__()\n",
        "        \n",
        "        # A simple two layer convolution followed by three fully connected layers should do\n",
        "        \n",
        "        self.conv1 = nn.Conv2d(1, 8, kernel_size=3)\n",
        "        self.conv2 = nn.Conv2d(8, 16, kernel_size=3)\n",
        "        \n",
        "        self.pool1 = nn.MaxPool2d( kernel_size=2, stride=2)\n",
        "        self.pool2 = nn.MaxPool2d( kernel_size=3)\n",
        "        \n",
        "        self.lin1 = nn.Linear(20736, 512)\n",
        "        self.lin2 = nn.Linear(512, 256)\n",
        "        self.lin3 = nn.Linear(256, 128)\n",
        "        self.out = nn.Linear(128, 1)\n",
        "        self.cos = nn.CosineSimilarity(dim=1, eps=1e-6)\n",
        "    def forward_once(self,x):\n",
        "        \n",
        "        # forwarding the input through the layers\n",
        "          \n",
        "        out = self.pool1(nn.functional.relu(self.conv1(x)))\n",
        "        out = self.pool2(nn.functional.relu(self.conv2(out)))\n",
        "        \n",
        "        out = out.view(-1,20736)\n",
        "        out = nn.functional.relu(self.lin1(out))\n",
        "        out = nn.functional.relu(self.lin2(out))\n",
        "        out = self.lin3(out)\n",
        "        \n",
        "        return out\n",
        "    \n",
        "    def forward(self, x, y):    \n",
        "        \n",
        "        # doing the forwarding twice so as to obtain the same functions as that of twin networks\n",
        "        \n",
        "        out1 = self.forward_once(x)\n",
        "        out2 = self.forward_once(y)\n",
        "        dis = torch.abs(out1 - out2)\n",
        "        \n",
        "        logits = torch.sigmoid(self.out(dis))\n",
        "        #out = self.cos(out1, out2)\n",
        "        return logits\n",
        "    \n",
        "    def evaluate(self, x, y):\n",
        "        \n",
        "        # this can be used later for evalutation\n",
        "        \n",
        "        m = to.tensor(1.0, dtype=to.float32)\n",
        "        \n",
        "        if type(m) != type(x):\n",
        "            x = to.tensor(x, dtype = to.float32, requires_grad = False)\n",
        "            \n",
        "        if type(m) != type(y):\n",
        "            y = to.tensor(y, dtype = to.float32, requires_grad = False)\n",
        "        \n",
        "        x = x.view(-1,1,28,28)\n",
        "        y = y.view(-1,1,28,28)\n",
        "        \n",
        "        with to.no_grad():\n",
        "            \n",
        "            out1, out2 = self.forward(x, y)\n",
        "            \n",
        "            return nn.functional.pairwise_distance(out1, out2)"
      ],
      "metadata": {
        "id": "9u_UgVf6A2sA"
      },
      "execution_count": 17,
      "outputs": []
    },
    {
      "cell_type": "markdown",
      "source": [
        "## Train One Epoch"
      ],
      "metadata": {
        "id": "fZxW9VBSA6l6"
      }
    },
    {
      "cell_type": "code",
      "source": [
        "def train_Siamese(model,batch_size, num_epochs, Criterion,Optimizer):\n",
        "    train_losses = []\n",
        "    #val_losses = []\n",
        "    cur_step = 0\n",
        "    train_dataloader = DataLoader(siamdset, shuffle=True, batch_size= batch_size,num_workers=4)\n",
        "    #train_dataloader_mnist = DataLoader(MnistDatasetTrain, shuffle=True, batch_size=  batch_size,num_workers=4)\n",
        "    for epoch in range(num_epochs):\n",
        "        running_loss = 0.0\n",
        "        model.train()\n",
        "        #print(f\"Starting epoch {str(epoch+1)} / {num_epochs}\")\n",
        "        correct_batch_prediction_count = 0\n",
        "        start_time = time.time()\n",
        "        for count_idx,data in enumerate(train_dataloader):\n",
        "          img1, img2 , label1, img3, img4, label2 = data\n",
        "          Optimizer.zero_grad()\n",
        "        \n",
        "          # here we obtain the positive pairs' loss as well as the negative pairs' loss\n",
        "          #print(np.array(img1.shape))\n",
        "          output1 = model(img1.cuda(),img2.cuda())\n",
        "          loss_pos = Criterion(output1.reshape(-1,1),label1.cuda())\n",
        "          loss_pos.backward()\n",
        "          running_loss += loss_pos.item()\n",
        "          Optimizer.step()\n",
        "          Optimizer.zero_grad()\n",
        "          output3 = model(img3.cuda(),img4.cuda())\n",
        "          loss_neg = Criterion(output3.reshape(-1,1),label2.cuda())\n",
        "          loss_neg.backward()\n",
        "          running_loss += loss_neg.item()\n",
        "          Optimizer.step()\n",
        "          # print(\"------------\")\n",
        "          # print(nn.functional.pairwise_distance(output1,output2 ))\n",
        "          # print(nn.functional.pairwise_distance(output3,output4 ))\n",
        "          # print(\"------------\")\n",
        "          \n",
        "          \n",
        "          \n",
        "          # the total loss is then computed and back propagated\n",
        "          #print(f\"SImilar {output1} Dissimilar{output3}\")\n",
        "          #loss_contrastive = loss_pos + loss_neg\n",
        "          \n",
        "          \n",
        "        avg_train_loss = running_loss / batch_size\n",
        "        train_losses.append(avg_train_loss)\n",
        "        print(f'Epoch [{epoch+1}/{num_epochs}],Train Loss: {avg_train_loss} Time: {time.time() - start_time}')\n",
        "        if (epoch+1) % 10 == 0:\n",
        "          validationAccuracy_custom(model)\n",
        "    #print(\"Finished Training Saving Weights\") \n",
        "        torch.save(model.state_dict(), \"/content/drive/MyDrive/Final Project/siamese network/Pretrained Model/siamese.pth\")\n",
        " \n",
        "    return train_losses"
      ],
      "metadata": {
        "id": "WXzKp0WtA9dJ"
      },
      "execution_count": 18,
      "outputs": []
    },
    {
      "cell_type": "markdown",
      "source": [
        "## Main Method"
      ],
      "metadata": {
        "id": "iXg7alOKA-6h"
      }
    },
    {
      "cell_type": "code",
      "source": [
        "model = CNNSiameseNet()\n",
        "#summary(model, [(1,224,224),(1,224,224)])\n",
        "model = model.cuda()\n",
        "pretrained_weight_path = \"/content/drive/MyDrive/Final Project/siamese network/Pretrained Model/siamese.pth\"\n",
        "# if os.path.isfile(pretrained_weight_path):\n",
        "#model.load_state_dict(torch.load(pretrained_weight_path))\n",
        "params = model.parameters()\n",
        "#params_groups = get_params_groups(model)\n",
        "#optimizer = LARS(params_groups)\n",
        "optimizer = torch.optim.Adam(params,lr = 0.001 )#optim.SGD(params, lr=0.001, momentum=0.5)\n",
        "loss = torch.nn.BCELoss()#ContrastiveLoss()#\n",
        "#optimizer = torch.optim.AdamW(params, lr=0.001, betas=(0.9, 0.999), eps=1e-08, weight_decay=0.01, amsgrad=False)\n",
        "train_Siamese(model,16,100,loss,optimizer)"
      ],
      "metadata": {
        "colab": {
          "base_uri": "https://localhost:8080/"
        },
        "id": "CWzX-066BATj",
        "outputId": "1d87117b-f251-462b-fc32-cb02d016e9ed"
      },
      "execution_count": 19,
      "outputs": [
        {
          "output_type": "stream",
          "name": "stdout",
          "text": [
            "Epoch [1/100],Train Loss: 26.97748626768589 Time: 21.10667109489441\n",
            "Epoch [2/100],Train Loss: 26.317486241459846 Time: 21.714252471923828\n",
            "Epoch [3/100],Train Loss: 25.482425639405847 Time: 21.59711217880249\n",
            "Epoch [4/100],Train Loss: 24.74033400043845 Time: 21.183207511901855\n",
            "Epoch [5/100],Train Loss: 24.43188768811524 Time: 21.125073432922363\n",
            "Epoch [6/100],Train Loss: 23.902964025735855 Time: 20.997026443481445\n",
            "Epoch [7/100],Train Loss: 23.74143316410482 Time: 21.05644917488098\n",
            "Epoch [8/100],Train Loss: 23.298226203769445 Time: 21.22525453567505\n",
            "Epoch [9/100],Train Loss: 23.08941718004644 Time: 21.844350337982178\n",
            "Epoch [10/100],Train Loss: 22.80544894747436 Time: 22.278966188430786\n",
            "Validation accuracy:               precision    recall  f1-score   support\n",
            "\n",
            "     class 0       0.88      0.91      0.89       158\n",
            "     class 1       0.89      0.86      0.87       142\n",
            "\n",
            "    accuracy                           0.88       300\n",
            "   macro avg       0.88      0.88      0.88       300\n",
            "weighted avg       0.88      0.88      0.88       300\n",
            "\n",
            "Epoch [11/100],Train Loss: 22.92409641109407 Time: 21.41742730140686\n",
            "Epoch [12/100],Train Loss: 22.709092684090137 Time: 21.216074466705322\n",
            "Epoch [13/100],Train Loss: 22.247918562963605 Time: 21.22736954689026\n",
            "Epoch [14/100],Train Loss: 22.451083747670054 Time: 21.322399616241455\n",
            "Epoch [15/100],Train Loss: 22.368175473064184 Time: 21.155182600021362\n",
            "Epoch [16/100],Train Loss: 22.059399336576462 Time: 21.280173301696777\n",
            "Epoch [17/100],Train Loss: 21.832067609764636 Time: 21.197388172149658\n",
            "Epoch [18/100],Train Loss: 21.73495906032622 Time: 21.178088665008545\n",
            "Epoch [19/100],Train Loss: 21.520868592895567 Time: 21.149147748947144\n",
            "Epoch [20/100],Train Loss: 21.152747303247452 Time: 21.288893938064575\n",
            "Validation accuracy:               precision    recall  f1-score   support\n",
            "\n",
            "     class 0       0.90      0.94      0.92       158\n",
            "     class 1       0.93      0.89      0.91       142\n",
            "\n",
            "    accuracy                           0.91       300\n",
            "   macro avg       0.91      0.91      0.91       300\n",
            "weighted avg       0.91      0.91      0.91       300\n",
            "\n",
            "Epoch [21/100],Train Loss: 21.050115130841732 Time: 21.147704601287842\n",
            "Epoch [22/100],Train Loss: 20.631811724975705 Time: 21.262080669403076\n",
            "Epoch [23/100],Train Loss: 20.538990759290755 Time: 21.29403591156006\n",
            "Epoch [24/100],Train Loss: 20.293782190419734 Time: 21.276915788650513\n",
            "Epoch [25/100],Train Loss: 19.779515993781388 Time: 21.248507738113403\n",
            "Epoch [26/100],Train Loss: 19.716714684851468 Time: 21.354965925216675\n",
            "Epoch [27/100],Train Loss: 19.36880996543914 Time: 21.34438920021057\n",
            "Epoch [28/100],Train Loss: 19.434124119579792 Time: 21.37832474708557\n",
            "Epoch [29/100],Train Loss: 19.23150443471968 Time: 21.33603549003601\n",
            "Epoch [30/100],Train Loss: 19.203526844270527 Time: 21.382837533950806\n",
            "Validation accuracy:               precision    recall  f1-score   support\n",
            "\n",
            "     class 0       0.90      0.95      0.92       158\n",
            "     class 1       0.94      0.88      0.91       142\n",
            "\n",
            "    accuracy                           0.92       300\n",
            "   macro avg       0.92      0.91      0.92       300\n",
            "weighted avg       0.92      0.92      0.92       300\n",
            "\n",
            "Epoch [31/100],Train Loss: 18.843794179148972 Time: 21.37286925315857\n",
            "Epoch [32/100],Train Loss: 18.835087559185922 Time: 21.192198991775513\n",
            "Epoch [33/100],Train Loss: 18.52025467157364 Time: 21.269611120224\n",
            "Epoch [34/100],Train Loss: 18.415298948064446 Time: 21.351386070251465\n",
            "Epoch [35/100],Train Loss: 18.41688483580947 Time: 21.18331241607666\n",
            "Epoch [36/100],Train Loss: 17.963978175073862 Time: 21.16237783432007\n",
            "Epoch [37/100],Train Loss: 17.629147278144956 Time: 21.13110589981079\n",
            "Epoch [38/100],Train Loss: 17.893497967161238 Time: 21.242770671844482\n",
            "Epoch [39/100],Train Loss: 17.469237214885652 Time: 21.237521171569824\n",
            "Epoch [40/100],Train Loss: 17.32438879739493 Time: 21.099714994430542\n",
            "Validation accuracy:               precision    recall  f1-score   support\n",
            "\n",
            "     class 0       0.93      0.94      0.93       158\n",
            "     class 1       0.94      0.92      0.93       142\n",
            "\n",
            "    accuracy                           0.93       300\n",
            "   macro avg       0.93      0.93      0.93       300\n",
            "weighted avg       0.93      0.93      0.93       300\n",
            "\n",
            "Epoch [41/100],Train Loss: 17.32836271636188 Time: 21.194820165634155\n",
            "Epoch [42/100],Train Loss: 17.536002949345857 Time: 21.236904621124268\n",
            "Epoch [43/100],Train Loss: 16.974340494722128 Time: 21.143479824066162\n",
            "Epoch [44/100],Train Loss: 17.03937564510852 Time: 21.195730209350586\n",
            "Epoch [45/100],Train Loss: 16.908628603443503 Time: 21.25011110305786\n",
            "Epoch [46/100],Train Loss: 16.45588628947735 Time: 21.077807664871216\n",
            "Epoch [47/100],Train Loss: 16.769542625639588 Time: 21.182613372802734\n",
            "Epoch [48/100],Train Loss: 16.345819814130664 Time: 21.175487756729126\n",
            "Epoch [49/100],Train Loss: 16.444522821810097 Time: 21.049627542495728\n",
            "Epoch [50/100],Train Loss: 16.39865139592439 Time: 21.25531506538391\n",
            "Validation accuracy:               precision    recall  f1-score   support\n",
            "\n",
            "     class 0       0.93      0.96      0.94       158\n",
            "     class 1       0.95      0.92      0.94       142\n",
            "\n",
            "    accuracy                           0.94       300\n",
            "   macro avg       0.94      0.94      0.94       300\n",
            "weighted avg       0.94      0.94      0.94       300\n",
            "\n",
            "Epoch [51/100],Train Loss: 16.166529738809913 Time: 21.02418303489685\n",
            "Epoch [52/100],Train Loss: 16.356406927108765 Time: 21.003636121749878\n",
            "Epoch [53/100],Train Loss: 16.06447503576055 Time: 21.0853009223938\n",
            "Epoch [54/100],Train Loss: 15.73536951560527 Time: 21.287283658981323\n",
            "Epoch [55/100],Train Loss: 16.14391153678298 Time: 21.218128204345703\n",
            "Epoch [56/100],Train Loss: 15.91594316996634 Time: 21.155442476272583\n",
            "Epoch [57/100],Train Loss: 15.557173551991582 Time: 21.15124011039734\n",
            "Epoch [58/100],Train Loss: 15.341658474877477 Time: 21.133264303207397\n",
            "Epoch [59/100],Train Loss: 15.581966262310743 Time: 21.252352476119995\n",
            "Epoch [60/100],Train Loss: 15.139093609992415 Time: 21.078563928604126\n",
            "Validation accuracy:               precision    recall  f1-score   support\n",
            "\n",
            "     class 0       0.90      0.95      0.93       158\n",
            "     class 1       0.94      0.89      0.91       142\n",
            "\n",
            "    accuracy                           0.92       300\n",
            "   macro avg       0.92      0.92      0.92       300\n",
            "weighted avg       0.92      0.92      0.92       300\n",
            "\n",
            "Epoch [61/100],Train Loss: 15.394698852207512 Time: 21.16888689994812\n",
            "Epoch [62/100],Train Loss: 15.121867117471993 Time: 21.187843561172485\n",
            "Epoch [63/100],Train Loss: 15.435138261877 Time: 21.203622817993164\n",
            "Epoch [64/100],Train Loss: 15.152078398503363 Time: 21.22775912284851\n",
            "Epoch [65/100],Train Loss: 14.867057727184147 Time: 21.27859115600586\n",
            "Epoch [66/100],Train Loss: 15.170583608094603 Time: 21.07790493965149\n",
            "Epoch [67/100],Train Loss: 15.298241218784824 Time: 21.149254322052002\n",
            "Epoch [68/100],Train Loss: 14.926588566973805 Time: 21.617248058319092\n",
            "Epoch [69/100],Train Loss: 15.161251065786928 Time: 22.13313317298889\n",
            "Epoch [70/100],Train Loss: 14.633155649527907 Time: 21.303731679916382\n",
            "Validation accuracy:               precision    recall  f1-score   support\n",
            "\n",
            "     class 0       0.95      0.96      0.96       158\n",
            "     class 1       0.96      0.94      0.95       142\n",
            "\n",
            "    accuracy                           0.95       300\n",
            "   macro avg       0.95      0.95      0.95       300\n",
            "weighted avg       0.95      0.95      0.95       300\n",
            "\n",
            "Epoch [71/100],Train Loss: 14.829876192379743 Time: 21.14505648612976\n",
            "Epoch [72/100],Train Loss: 14.943989765364677 Time: 21.124364614486694\n",
            "Epoch [73/100],Train Loss: 14.788891054224223 Time: 21.227054595947266\n",
            "Epoch [74/100],Train Loss: 14.553026357199997 Time: 21.029405117034912\n",
            "Epoch [75/100],Train Loss: 15.005561523139477 Time: 21.074471712112427\n",
            "Epoch [76/100],Train Loss: 14.338292801752687 Time: 21.173146963119507\n",
            "Epoch [77/100],Train Loss: 14.594485376030207 Time: 21.09721875190735\n",
            "Epoch [78/100],Train Loss: 14.62973577156663 Time: 20.91728901863098\n",
            "Epoch [79/100],Train Loss: 14.232234837953001 Time: 21.00158667564392\n",
            "Epoch [80/100],Train Loss: 14.094610882690176 Time: 21.11297845840454\n",
            "Validation accuracy:               precision    recall  f1-score   support\n",
            "\n",
            "     class 0       0.93      0.96      0.94       158\n",
            "     class 1       0.96      0.92      0.94       142\n",
            "\n",
            "    accuracy                           0.94       300\n",
            "   macro avg       0.94      0.94      0.94       300\n",
            "weighted avg       0.94      0.94      0.94       300\n",
            "\n",
            "Epoch [81/100],Train Loss: 14.389003076124936 Time: 21.046728134155273\n",
            "Epoch [82/100],Train Loss: 14.205636801663786 Time: 21.11048150062561\n",
            "Epoch [83/100],Train Loss: 14.047973273787647 Time: 20.964635848999023\n",
            "Epoch [84/100],Train Loss: 14.507855309639126 Time: 21.187814235687256\n",
            "Epoch [85/100],Train Loss: 14.075452194549143 Time: 21.05935788154602\n",
            "Epoch [86/100],Train Loss: 14.18568635545671 Time: 21.075545072555542\n",
            "Epoch [87/100],Train Loss: 14.33981863874942 Time: 21.039016485214233\n",
            "Epoch [88/100],Train Loss: 13.808668782934546 Time: 21.26662826538086\n",
            "Epoch [89/100],Train Loss: 14.180807664524764 Time: 21.11553120613098\n",
            "Epoch [90/100],Train Loss: 14.015244738198817 Time: 21.034302234649658\n",
            "Validation accuracy:               precision    recall  f1-score   support\n",
            "\n",
            "     class 0       0.92      0.96      0.94       158\n",
            "     class 1       0.96      0.90      0.93       142\n",
            "\n",
            "    accuracy                           0.93       300\n",
            "   macro avg       0.94      0.93      0.93       300\n",
            "weighted avg       0.93      0.93      0.93       300\n",
            "\n",
            "Epoch [91/100],Train Loss: 13.919304461684078 Time: 21.034470319747925\n",
            "Epoch [92/100],Train Loss: 13.72946308273822 Time: 21.100372314453125\n",
            "Epoch [93/100],Train Loss: 13.903011673828587 Time: 20.889331817626953\n",
            "Epoch [94/100],Train Loss: 13.668298161355779 Time: 20.97247552871704\n",
            "Epoch [95/100],Train Loss: 13.708279067650437 Time: 20.947068214416504\n",
            "Epoch [96/100],Train Loss: 13.456959038507193 Time: 21.10118556022644\n",
            "Epoch [97/100],Train Loss: 13.886166135314852 Time: 20.99027442932129\n",
            "Epoch [98/100],Train Loss: 13.615638410672545 Time: 21.041549921035767\n",
            "Epoch [99/100],Train Loss: 13.591820523142815 Time: 21.202154636383057\n",
            "Epoch [100/100],Train Loss: 13.272598482202739 Time: 21.2850284576416\n",
            "Validation accuracy:               precision    recall  f1-score   support\n",
            "\n",
            "     class 0       0.89      0.96      0.93       158\n",
            "     class 1       0.95      0.87      0.91       142\n",
            "\n",
            "    accuracy                           0.92       300\n",
            "   macro avg       0.92      0.92      0.92       300\n",
            "weighted avg       0.92      0.92      0.92       300\n",
            "\n"
          ]
        },
        {
          "output_type": "execute_result",
          "data": {
            "text/plain": [
              "[26.97748626768589,\n",
              " 26.317486241459846,\n",
              " 25.482425639405847,\n",
              " 24.74033400043845,\n",
              " 24.43188768811524,\n",
              " 23.902964025735855,\n",
              " 23.74143316410482,\n",
              " 23.298226203769445,\n",
              " 23.08941718004644,\n",
              " 22.80544894747436,\n",
              " 22.92409641109407,\n",
              " 22.709092684090137,\n",
              " 22.247918562963605,\n",
              " 22.451083747670054,\n",
              " 22.368175473064184,\n",
              " 22.059399336576462,\n",
              " 21.832067609764636,\n",
              " 21.73495906032622,\n",
              " 21.520868592895567,\n",
              " 21.152747303247452,\n",
              " 21.050115130841732,\n",
              " 20.631811724975705,\n",
              " 20.538990759290755,\n",
              " 20.293782190419734,\n",
              " 19.779515993781388,\n",
              " 19.716714684851468,\n",
              " 19.36880996543914,\n",
              " 19.434124119579792,\n",
              " 19.23150443471968,\n",
              " 19.203526844270527,\n",
              " 18.843794179148972,\n",
              " 18.835087559185922,\n",
              " 18.52025467157364,\n",
              " 18.415298948064446,\n",
              " 18.41688483580947,\n",
              " 17.963978175073862,\n",
              " 17.629147278144956,\n",
              " 17.893497967161238,\n",
              " 17.469237214885652,\n",
              " 17.32438879739493,\n",
              " 17.32836271636188,\n",
              " 17.536002949345857,\n",
              " 16.974340494722128,\n",
              " 17.03937564510852,\n",
              " 16.908628603443503,\n",
              " 16.45588628947735,\n",
              " 16.769542625639588,\n",
              " 16.345819814130664,\n",
              " 16.444522821810097,\n",
              " 16.39865139592439,\n",
              " 16.166529738809913,\n",
              " 16.356406927108765,\n",
              " 16.06447503576055,\n",
              " 15.73536951560527,\n",
              " 16.14391153678298,\n",
              " 15.91594316996634,\n",
              " 15.557173551991582,\n",
              " 15.341658474877477,\n",
              " 15.581966262310743,\n",
              " 15.139093609992415,\n",
              " 15.394698852207512,\n",
              " 15.121867117471993,\n",
              " 15.435138261877,\n",
              " 15.152078398503363,\n",
              " 14.867057727184147,\n",
              " 15.170583608094603,\n",
              " 15.298241218784824,\n",
              " 14.926588566973805,\n",
              " 15.161251065786928,\n",
              " 14.633155649527907,\n",
              " 14.829876192379743,\n",
              " 14.943989765364677,\n",
              " 14.788891054224223,\n",
              " 14.553026357199997,\n",
              " 15.005561523139477,\n",
              " 14.338292801752687,\n",
              " 14.594485376030207,\n",
              " 14.62973577156663,\n",
              " 14.232234837953001,\n",
              " 14.094610882690176,\n",
              " 14.389003076124936,\n",
              " 14.205636801663786,\n",
              " 14.047973273787647,\n",
              " 14.507855309639126,\n",
              " 14.075452194549143,\n",
              " 14.18568635545671,\n",
              " 14.33981863874942,\n",
              " 13.808668782934546,\n",
              " 14.180807664524764,\n",
              " 14.015244738198817,\n",
              " 13.919304461684078,\n",
              " 13.72946308273822,\n",
              " 13.903011673828587,\n",
              " 13.668298161355779,\n",
              " 13.708279067650437,\n",
              " 13.456959038507193,\n",
              " 13.886166135314852,\n",
              " 13.615638410672545,\n",
              " 13.591820523142815,\n",
              " 13.272598482202739]"
            ]
          },
          "metadata": {},
          "execution_count": 19
        }
      ]
    }
  ]
}